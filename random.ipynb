{
 "cells": [
  {
   "cell_type": "code",
   "execution_count": 24,
   "metadata": {},
   "outputs": [
    {
     "name": "stdout",
     "output_type": "stream",
     "text": [
      "({'x': tensor([[1.0000e+00],\n",
      "        [5.0000e+00],\n",
      "        [1.0000e+01],\n",
      "        [5.0000e+01],\n",
      "        [1.0000e+02],\n",
      "        [5.0000e+02],\n",
      "        [1.0000e+03],\n",
      "        [5.0000e+03]]), 'edge_index': tensor([[0, 0, 0, 0, 1, 1, 2, 2, 2, 2, 3, 5, 5],\n",
      "        [1, 2, 4, 7, 2, 4, 3, 5, 7, 4, 6, 6, 7]]), 'y': tensor([0, 1, 1, 1, 0, 0, 0, 0]), 'num_nodes': 8}, None, <class 'torch_geometric.data.data.Data'>)\n"
     ]
    }
   ],
   "source": [
    "# how load_manual_data file looks like\n",
    "# Open this file: challenge-icml-2024/datasets/graph/toy_dataset/manual/processed/data.pt\n",
    "\n",
    "import torch\n",
    "\n",
    "# Specify the path to your .pt file\n",
    "file_path = 'datasets/graph/toy_dataset/manual/processed/data_or.pt'\n",
    "\n",
    "# Load the .pt file\n",
    "data = torch.load(file_path)\n",
    "\n",
    "# Print the contents of the loaded data\n",
    "print(data)\n"
   ]
  },
  {
   "cell_type": "code",
   "execution_count": 3,
   "metadata": {},
   "outputs": [
    {
     "name": "stdout",
     "output_type": "stream",
     "text": [
      "Data(x=[12, 1], edge_index=[2, 24])\n"
     ]
    }
   ],
   "source": [
    "from rdkit import Chem\n",
    "from rdkit.Chem import rdchem\n",
    "import torch\n",
    "from torch_geometric.data import Data\n",
    "\n",
    "# Define the SMILES string for phenylalanine\n",
    "smiles = \"C1=CC=C(C=C1)C[C@@H](C(=O)O)N\"\n",
    "\n",
    "# Convert the SMILES string to an RDKit molecule object\n",
    "mol = Chem.MolFromSmiles(smiles)\n",
    "\n",
    "# Create atom features (node features)\n",
    "atom_types = {'C': 0, 'H': 1, 'N': 2, 'O': 3}\n",
    "atom_list = [atom_types[atom.GetSymbol()] for atom in mol.GetAtoms()]\n",
    "x = torch.tensor(atom_list, dtype=torch.long).view(-1, 1)\n",
    "\n",
    "# Create edge index\n",
    "edges = []\n",
    "for bond in mol.GetBonds():\n",
    "    i = bond.GetBeginAtomIdx()\n",
    "    j = bond.GetEndAtomIdx()\n",
    "    edges.append((i, j))\n",
    "    edges.append((j, i))\n",
    "\n",
    "edge_index = torch.tensor(edges, dtype=torch.long).t().contiguous()\n",
    "\n",
    "# Create the PyTorch Geometric data object\n",
    "data = Data(x=x, edge_index=edge_index)\n",
    "\n",
    "print(data)\n"
   ]
  },
  {
   "cell_type": "code",
   "execution_count": 2,
   "metadata": {},
   "outputs": [],
   "source": [
    "# With this cell any imported module is reloaded before each cell execution\n",
    "%load_ext autoreload\n",
    "%autoreload 2\n",
    "from modules.data.load.loaders import GraphLoader\n",
    "from modules.data.preprocess.preprocessor import PreProcessor\n",
    "from modules.utils.utils import (\n",
    "    describe_data,\n",
    "    load_dataset_config,\n",
    "    load_model_config,\n",
    "    load_transform_config,\n",
    ")"
   ]
  },
  {
   "cell_type": "code",
   "execution_count": 3,
   "metadata": {},
   "outputs": [
    {
     "name": "stdout",
     "output_type": "stream",
     "text": [
      "\n",
      "Dataset configuration for QM9:\n",
      "\n",
      "{'data_domain': 'graph',\n",
      " 'data_type': 'QM9',\n",
      " 'data_name': 'QM9',\n",
      " 'data_dir': 'datasets/graph/QM9',\n",
      " 'num_features': 11,\n",
      " 'num_classes': 1,\n",
      " 'task': 'regression',\n",
      " 'loss_type': 'mse',\n",
      " 'monitor_metric': 'mae',\n",
      " 'task_level': 'graph'}\n"
     ]
    }
   ],
   "source": [
    "dataset_name = \"QM9\"\n",
    "dataset_config = load_dataset_config(dataset_name)\n",
    "loader = GraphLoader(dataset_config)"
   ]
  },
  {
   "cell_type": "code",
   "execution_count": 4,
   "metadata": {},
   "outputs": [
    {
     "name": "stderr",
     "output_type": "stream",
     "text": [
      "/home/bmiquel/miniconda3/envs/topox/lib/python3.11/site-packages/torch_geometric/data/dataset.py:239: UserWarning: The `pre_transform` argument differs from the one used in the pre-processed version of this dataset. If you want to make use of another pre-processing technique, pass `force_reload=True` explicitly to reload the dataset.\n",
      "  warnings.warn(\n"
     ]
    },
    {
     "name": "stdout",
     "output_type": "stream",
     "text": [
      "\n",
      "Dataset contains 129428 samples.\n",
      "\n",
      "Providing more details about sample 0/129428:\n"
     ]
    },
    {
     "data": {
      "image/png": "[encoded data removed]",
      "text/plain": [
       "<Figure size 500x500 with 1 Axes>"
      ]
     },
     "metadata": {},
     "output_type": "display_data"
    },
    {
     "name": "stdout",
     "output_type": "stream",
     "text": [
      " - Graph with 5 vertices and 8 edges.\n",
      " - Features dimensions: [11, 5]\n",
      " - There are 0 isolated nodes.\n",
      "\n"
     ]
    }
   ],
   "source": [
    "dataset = loader.load()\n",
    "describe_data(dataset)"
   ]
  },
  {
   "cell_type": "code",
   "execution_count": 9,
   "metadata": {},
   "outputs": [
    {
     "data": {
      "text/plain": [
       "Data(x=[12, 11], edge_index=[2, 26], edge_attr=[26, 5], y=[1, 19], pos=[12, 3], z=[12], smiles='[H]O[C@@]12C([H])([H])O[C@]1([H])C2([H])[H]', name='gdb_483', idx=[1])"
      ]
     },
     "execution_count": 9,
     "metadata": {},
     "output_type": "execute_result"
    }
   ],
   "source": [
    "dataset[471]"
   ]
  },
  {
   "cell_type": "code",
   "execution_count": 5,
   "metadata": {},
   "outputs": [
    {
     "data": {
      "text/plain": [
       "12"
      ]
     },
     "execution_count": 5,
     "metadata": {},
     "output_type": "execute_result"
    }
   ],
   "source": [
    "dataset[471].num_nodes"
   ]
  },
  {
   "cell_type": "code",
   "execution_count": 12,
   "metadata": {},
   "outputs": [
    {
     "data": {
      "text/plain": [
       "tensor([[ 2.2569e+00,  4.5920e+01, -6.3076e+00,  1.9211e+00,  8.2287e+00,\n",
       "          4.6414e+02,  2.6121e+00, -8.3351e+03, -8.3349e+03, -8.3349e+03,\n",
       "         -8.3359e+03,  2.0187e+01, -4.8740e+01, -4.9057e+01, -4.9339e+01,\n",
       "         -4.5375e+01,  6.5000e+00,  3.8560e+00,  3.0122e+00]])"
      ]
     },
     "execution_count": 12,
     "metadata": {},
     "output_type": "execute_result"
    }
   ],
   "source": [
    "y"
   ]
  },
  {
   "cell_type": "code",
   "execution_count": 13,
   "metadata": {},
   "outputs": [
    {
     "data": {
      "text/plain": [
       "tensor([[0., 0., 0., 1., 0., 8., 0., 0., 0., 0., 1.],\n",
       "        [0., 1., 0., 0., 0., 6., 0., 0., 0., 0., 0.],\n",
       "        [0., 1., 0., 0., 0., 6., 0., 0., 0., 0., 2.],\n",
       "        [0., 1., 0., 0., 0., 6., 0., 0., 0., 0., 1.],\n",
       "        [0., 0., 0., 1., 0., 8., 0., 0., 0., 0., 0.],\n",
       "        [0., 1., 0., 0., 0., 6., 0., 0., 0., 0., 2.],\n",
       "        [1., 0., 0., 0., 0., 1., 0., 0., 0., 0., 0.],\n",
       "        [1., 0., 0., 0., 0., 1., 0., 0., 0., 0., 0.],\n",
       "        [1., 0., 0., 0., 0., 1., 0., 0., 0., 0., 0.],\n",
       "        [1., 0., 0., 0., 0., 1., 0., 0., 0., 0., 0.],\n",
       "        [1., 0., 0., 0., 0., 1., 0., 0., 0., 0., 0.],\n",
       "        [1., 0., 0., 0., 0., 1., 0., 0., 0., 0., 0.]])"
      ]
     },
     "execution_count": 13,
     "metadata": {},
     "output_type": "execute_result"
    }
   ],
   "source": [
    "x"
   ]
  },
  {
   "cell_type": "code",
   "execution_count": 7,
   "metadata": {},
   "outputs": [],
   "source": [
    "x=dataset[471].x\n",
    "edge_index=dataset[471].edge_index\n",
    "y=dataset[471].y\n",
    "num_nodes=dataset[471].num_nodes\n",
    "smiles=dataset[471].smiles"
   ]
  },
  {
   "cell_type": "code",
   "execution_count": 8,
   "metadata": {},
   "outputs": [
    {
     "data": {
      "text/plain": [
       "tensor([[-0.0520,  1.4421,  0.0438],\n",
       "        [-0.0146,  0.0641,  0.0278],\n",
       "        [-0.2878, -0.7834, -1.1968],\n",
       "        [-1.1365, -0.9394,  0.0399],\n",
       "        [-0.4768, -1.7722,  0.9962],\n",
       "        [ 0.6009, -0.8025,  1.1266],\n",
       "        [ 0.6168,  1.7721, -0.5660],\n",
       "        [-0.7693, -0.2348, -2.0014],\n",
       "        [ 0.3816, -1.5834, -1.5029],\n",
       "        [-2.2159, -0.8594,  0.0798],\n",
       "        [ 1.5885, -1.2463,  0.9538],\n",
       "        [ 0.5680, -0.3171,  2.1084]])"
      ]
     },
     "execution_count": 8,
     "metadata": {},
     "output_type": "execute_result"
    }
   ],
   "source": [
    "dataset[471].pos"
   ]
  },
  {
   "cell_type": "code",
   "execution_count": null,
   "metadata": {},
   "outputs": [
    {
     "data": {
      "image/jpeg": "[encoded data removed]",
      "image/png": "[encoded data removed]",
      "text/plain": [
       "<PIL.PngImagePlugin.PngImageFile image mode=RGB size=300x300>"
      ]
     },
     "execution_count": 15,
     "metadata": {},
     "output_type": "execute_result"
    }
   ],
   "source": [
    "# draw toy_dataset graph\n",
    "toy_dataset = dataset[471]\n",
    "\n",
    "from rdkit import Chem\n",
    "from rdkit.Chem import Draw\n",
    "\n",
    "Draw.MolToImage(Chem.MolFromSmiles(smiles))"
   ]
  },
  {
   "cell_type": "code",
   "execution_count": null,
   "metadata": {},
   "outputs": [],
   "source": [
    "toy_dataset = ({'x': x, 'edge_index': edge_index, 'y': y, 'num_nodes': num_nodes})"
   ]
  },
  {
   "cell_type": "code",
   "execution_count": null,
   "metadata": {},
   "outputs": [
    {
     "name": "stdout",
     "output_type": "stream",
     "text": [
      "({'x': tensor([[0., 1., 0., 0., 0., 6., 0., 0., 0., 0., 3.],\n",
      "        [0., 1., 0., 0., 0., 6., 0., 0., 0., 0., 0.],\n",
      "        [0., 1., 0., 0., 0., 6., 0., 0., 0., 0., 2.],\n",
      "        [0., 1., 0., 0., 0., 6., 0., 0., 0., 0., 2.],\n",
      "        [0., 1., 0., 0., 0., 6., 0., 0., 0., 0., 1.],\n",
      "        [0., 0., 0., 1., 0., 8., 0., 0., 0., 0., 0.],\n",
      "        [1., 0., 0., 0., 0., 1., 0., 0., 0., 0., 0.],\n",
      "        [1., 0., 0., 0., 0., 1., 0., 0., 0., 0., 0.],\n",
      "        [1., 0., 0., 0., 0., 1., 0., 0., 0., 0., 0.],\n",
      "        [1., 0., 0., 0., 0., 1., 0., 0., 0., 0., 0.],\n",
      "        [1., 0., 0., 0., 0., 1., 0., 0., 0., 0., 0.],\n",
      "        [1., 0., 0., 0., 0., 1., 0., 0., 0., 0., 0.],\n",
      "        [1., 0., 0., 0., 0., 1., 0., 0., 0., 0., 0.],\n",
      "        [1., 0., 0., 0., 0., 1., 0., 0., 0., 0., 0.]]), 'edge_index': tensor([[ 0,  0,  0,  0,  1,  1,  1,  1,  2,  2,  2,  2,  3,  3,  3,  3,  4,  4,\n",
      "          4,  4,  5,  5,  6,  7,  8,  9, 10, 11, 12, 13],\n",
      "        [ 1,  6,  7,  8,  0,  2,  4,  5,  1,  3,  9, 10,  2,  4, 11, 12,  1,  3,\n",
      "          5, 13,  1,  4,  0,  0,  0,  2,  2,  3,  3,  4]]), 'y': tensor([[ 1.8535e+00,  5.3260e+01, -6.6450e+00,  2.5987e+00,  9.2437e+00,\n",
      "          5.0886e+02,  3.2489e+00, -7.3580e+03, -7.3578e+03, -7.3578e+03,\n",
      "         -7.3588e+03,  2.1539e+01, -5.7165e+01, -5.7549e+01, -5.7883e+01,\n",
      "         -5.3241e+01,  6.4968e+00,  3.6490e+00,  2.9323e+00]]), 'num_nodes': 14, 'smiles': '[H]C1([H])[N@H+]2[C@@]3([H])[C@@]14O[C@@]1([H])[C@@]([H])([C@]24[H])[C@]13[H]'}, None, <class 'torch_geometric.data.data.Data'>)\n"
     ]
    }
   ],
   "source": [
    "from torch_geometric.data import Data\n",
    "import torch\n",
    "\n",
    "# Create a Data object\n",
    "data = Data(x=x, edge_index=edge_index, y=y, num_nodes=num_nodes, smiles=smiles)\n",
    "\n",
    "# Prepare the tuple to save\n",
    "data_tuple = ({'x': data.x, 'edge_index': data.edge_index, 'y': data.y, 'num_nodes': data.num_nodes, 'smiles': smiles}, None, Data)\n",
    "\n",
    "# Save the data tuple to a .pt file using torch.save\n",
    "torch.save(data_tuple, 'datasets/graph/toy_dataset/manual/processed/data.pt')\n",
    "torch.save(toy_dataset, 'datasets/graph/toy_dataset/manual/processed/pre_filter.pt')\n",
    "torch.save(toy_dataset, 'datasets/graph/toy_dataset/manual/processed/pre_transform.pt')\n",
    "\n",
    "\n",
    "# Load the data tuple back from the .pt file\n",
    "loaded_data_tuple = torch.load('datasets/graph/toy_dataset/manual/processed/data.pt')\n",
    "\n",
    "# Verify the loaded data\n",
    "print(loaded_data_tuple)"
   ]
  },
  {
   "cell_type": "code",
   "execution_count": null,
   "metadata": {},
   "outputs": [],
   "source": [
    "toy_dataset = Data(x=dataset[471].x.to_dense(), \n",
    "        edge_index=dataset[471].edge_index, \n",
    "        y=dataset[471].y,\n",
    "        num_nodes=dataset[471].num_nodes)"
   ]
  },
  {
   "cell_type": "code",
   "execution_count": null,
   "metadata": {},
   "outputs": [],
   "source": [
    "# save the toy dataset\n",
    "torch.save(toy_dataset, 'datasets/graph/toy_dataset/manual/processed/data.pt')"
   ]
  },
  {
   "cell_type": "code",
   "execution_count": null,
   "metadata": {},
   "outputs": [],
   "source": [
    "# search phenylalanine in the dataset through the SMILES string\n",
    "phenylalanine_smiles = \"C1=CC=C(C=C1)C[C@@H](C(=O)O)N\"\n",
    "\n",
    "for i, smiles in enumerate(dataset.smiles):\n",
    "    if smiles == phenylalanine_smiles:\n",
    "        print(f\"Phenylalanine found at index {i}\")\n",
    "        break"
   ]
  },
  {
   "cell_type": "code",
   "execution_count": null,
   "metadata": {},
   "outputs": [],
   "source": [
    "\"\"\"Test the message passing module.\"\"\"\n",
    "\n",
    "import torch\n",
    "\n",
    "from modules.data.utils.utils import load_manual_graph\n",
    "from modules.transforms.liftings.graph2cell.ring_lifting import CellRingLifting\n",
    "\n",
    "from torch_geometric.data import Data\n",
    "\n",
    "from rdkit import Chem\n",
    "\n",
    "\n",
    "class TestCellRingLifting:\n",
    "    \"\"\"Test the CellRingLifting class.\"\"\"\n",
    "\n",
    "    def setup_method(self):\n",
    "        # Load the graph\n",
    "        self.data = load_manual_graph()\n",
    "        \n",
    "\n",
    "        # Initialise the CellCyclesLifting class\n",
    "        self.lifting = CellRingLifting()    \n",
    "\n",
    "    def test_lift_topology(self):\n",
    "        # Test the lift_topology method\n",
    "        lifted_data = self.lifting.forward(self.data.clone())\n",
    "\n",
    "        expected_incidence_1 = torch.tensor(\n",
    "            [\n",
    "                [1., 1., 1., 1., 0., 0., 0., 0., 0., 0., 0., 0., 0., 0., 0., 0.],\n",
    "                [1., 0., 0., 0., 1., 1., 1., 1., 0., 0., 0., 0., 0., 0., 0., 0.],\n",
    "                [0., 0., 0., 0., 1., 0., 0., 0., 1., 1., 1., 0., 0., 0., 0., 0.],\n",
    "                [0., 0., 0., 0., 0., 1., 0., 0., 1., 0., 0., 1., 1., 1., 0., 0.],\n",
    "                [0., 0., 0., 0., 0., 0., 1., 0., 0., 0., 0., 1., 0., 0., 1., 1.],\n",
    "                [0., 0., 0., 0., 0., 0., 0., 1., 0., 0., 0., 0., 0., 0., 1., 0.],\n",
    "                [0., 1., 0., 0., 0., 0., 0., 0., 0., 0., 0., 0., 0., 0., 0., 0.],\n",
    "                [0., 0., 1., 0., 0., 0., 0., 0., 0., 0., 0., 0., 0., 0., 0., 0.],\n",
    "                [0., 0., 0., 1., 0., 0., 0., 0., 0., 0., 0., 0., 0., 0., 0., 0.],\n",
    "                [0., 0., 0., 0., 0., 0., 0., 0., 0., 1., 0., 0., 0., 0., 0., 0.],\n",
    "                [0., 0., 0., 0., 0., 0., 0., 0., 0., 0., 1., 0., 0., 0., 0., 0.],\n",
    "                [0., 0., 0., 0., 0., 0., 0., 0., 0., 0., 0., 0., 1., 0., 0., 0.],\n",
    "                [0., 0., 0., 0., 0., 0., 0., 0., 0., 0., 0., 0., 0., 1., 0., 0.],\n",
    "                [0., 0., 0., 0., 0., 0., 0., 0., 0., 0., 0., 0., 0., 0., 0., 1.]\n",
    "            ]\n",
    "        )\n",
    "\n",
    "        assert (\n",
    "            expected_incidence_1 == lifted_data.incidence_1.to_dense()\n",
    "        ).all(), \"Something is wrong with incidence_1.\"\n",
    "\n",
    "        expected_incidence_2 = torch.tensor(\n",
    "            [\n",
    "                [0., 0.],\n",
    "                [0., 0.],\n",
    "                [0., 0.],\n",
    "                [0., 0.],\n",
    "                [1., 0.],\n",
    "                [1., 1.],\n",
    "                [0., 0.],\n",
    "                [0., 1.],\n",
    "                [1., 0.],\n",
    "                [0., 0.],\n",
    "                [0., 0.],\n",
    "                [0., 1.],\n",
    "                [0., 0.],\n",
    "                [0., 0.],\n",
    "                [0., 1.],\n",
    "                [0., 0.]\n",
    "            ]\n",
    "        )\n",
    "\n",
    "        assert (\n",
    "            expected_incidence_2 == lifted_data.incidence_2.to_dense()\n",
    "        ).all(), \"Something is wrong with incidence_2.\"\n"
   ]
  },
  {
   "cell_type": "code",
   "execution_count": null,
   "metadata": {},
   "outputs": [
    {
     "name": "stderr",
     "output_type": "stream",
     "text": [
      "Downloading https://deepchemdata.s3-us-west-1.amazonaws.com/datasets/molnet_publish/qm9.zip\n",
      "Extracting datasets/graph/QM9/raw/qm9.zip\n",
      "Downloading https://ndownloader.figshare.com/files/3195404\n",
      "Processing...\n",
      "100%|██████████| 133885/133885 [01:00<00:00, 2223.80it/s]\n",
      "Done!\n"
     ]
    }
   ],
   "source": [
    "import torch_geometric\n",
    "\n",
    "data_type= 'QM9'\n",
    "data_name= 'QM9'\n",
    "data_dir= 'datasets/${data_domain}/${data_type}'\n",
    "\n",
    "root_data_dir = data_dir.replace('${data_domain}', 'graph').replace('${data_type}', data_type)\n",
    "\n",
    "\n",
    "dataset = torch_geometric.datasets.QM9(\n",
    "                root=root_data_dir, \n",
    "                pre_transform=torch_geometric.transforms.Distance(norm=False),\n",
    "                force_reload=True\n",
    "            )"
   ]
  },
  {
   "cell_type": "code",
   "execution_count": null,
   "metadata": {},
   "outputs": [],
   "source": [
    "toy_data = dataset[0]"
   ]
  },
  {
   "cell_type": "code",
   "execution_count": null,
   "metadata": {},
   "outputs": [
    {
     "data": {
      "text/plain": [
       "tensor([[-1.2700e-02,  1.0858e+00,  8.0000e-03],\n",
       "        [ 2.2000e-03, -6.0000e-03,  2.0000e-03],\n",
       "        [ 1.0117e+00,  1.4638e+00,  3.0000e-04],\n",
       "        [-5.4080e-01,  1.4475e+00, -8.7660e-01],\n",
       "        [-5.2380e-01,  1.4379e+00,  9.0640e-01]])"
      ]
     },
     "execution_count": 16,
     "metadata": {},
     "output_type": "execute_result"
    }
   ],
   "source": [
    "toy_data.pos"
   ]
  },
  {
   "cell_type": "code",
   "execution_count": null,
   "metadata": {},
   "outputs": [
    {
     "name": "stdout",
     "output_type": "stream",
     "text": [
      "tensor([[0.0000, 1.0919, 1.0919, 1.0919, 1.0919],\n",
      "        [1.0919, 0.0000, 1.7831, 1.7831, 1.7831],\n",
      "        [1.0919, 1.7831, 0.0000, 1.7831, 1.7831],\n",
      "        [1.0919, 1.7831, 1.7831, 0.0000, 1.7831],\n",
      "        [1.0919, 1.7831, 1.7831, 1.7831, 0.0000]])\n"
     ]
    }
   ],
   "source": [
    "# I want to compute the euclidean distance between each atom\n",
    "# I will use the pos attribute of the toy_data object\n",
    "\n",
    "import torch\n",
    "\n",
    "# Get the positions of the atoms\n",
    "pos = toy_data.pos\n",
    "\n",
    "# Compute the pairwise distances between the atoms\n",
    "distances = torch.cdist(pos, pos, p=2)\n",
    "\n",
    "# Print the computed distances\n",
    "print(distances)"
   ]
  },
  {
   "cell_type": "code",
   "execution_count": null,
   "metadata": {},
   "outputs": [],
   "source": [
    "    import networkx as nx\n",
    "\n",
    "    def get_distance_matrix(\n",
    "        data : torch_geometric.data.Data | dict\n",
    "    ) -> torch.Tensor:\n",
    "        r\"\"\"Computes the pairwise distances between atoms in a molecule.\n",
    "\n",
    "        Parameters\n",
    "        ----------\n",
    "        mol : Chem.Mol\n",
    "            The molecule object.\n",
    "\n",
    "        Returns\n",
    "        -------\n",
    "        torch.Tensor\n",
    "            The pairwise distance matrix.\n",
    "        \"\"\"\n",
    "        # Get the positions of the atoms\n",
    "        pos = data.pos\n",
    "\n",
    "        # Compute the pairwise distances between the atoms\n",
    "        distances = torch.cdist(pos, pos, p=2)\n",
    "\n",
    "        return distances\n",
    "    \n",
    "    def find_close_atoms(\n",
    "            data : torch_geometric.data.Data | dict #, threshold_distance: float\n",
    "        ) -> list:\n",
    "        r\"\"\"Finds the atoms that are close to each other within a molecule.\n",
    "\n",
    "        Parameters\n",
    "        ----------\n",
    "        mol : Chem.Mol\n",
    "\n",
    "        threshold_distance : float\n",
    "            The threshold distance to consider two atoms as close.\n",
    "\n",
    "        Returns\n",
    "        -------\n",
    "        list\n",
    "            The list of close atoms.\n",
    "        \"\"\"\n",
    "        # Get the distances between atoms including in transormed data\n",
    "        distance_matrix = get_distance_matrix(data)\n",
    "\n",
    "        # Get indices of atom pairs that are closer than the threshold\n",
    "        close_atoms = []\n",
    "        num_atoms = distance_matrix.size(0) # data.num_nodes\n",
    "        for i in range(num_atoms):\n",
    "            for j in range(i + 1, num_atoms):\n",
    "                if distance_matrix[i, j] < 1.5:\n",
    "                    close_atoms.append((i, j))\n",
    "        \n",
    "        return close_atoms      #, distance_matrix\n",
    "    \n",
    "    def find_close_atom_groups(\n",
    "        data : torch_geometric.data.Data | dict\n",
    "    ) -> list:\n",
    "        r\"\"\"Finds the groups of atoms that are close to each other within a molecule.\n",
    "\n",
    "        Parameters\n",
    "        ----------\n",
    "        mol : Chem.Mol\n",
    "\n",
    "        threshold_distance : float\n",
    "            The threshold distance to consider two atoms as close.\n",
    "\n",
    "        Returns\n",
    "        -------\n",
    "        list\n",
    "            The list of groups of close atoms.\n",
    "        \"\"\"\n",
    "        # Get the indices of close atoms\n",
    "        close_atoms = find_close_atoms(data)\n",
    "\n",
    "        G = nx.Graph()\n",
    "        G.add_edges_from(close_atoms)\n",
    "        return [list(component) for component in nx.connected_components(G)]"
   ]
  },
  {
   "cell_type": "code",
   "execution_count": null,
   "metadata": {},
   "outputs": [],
   "source": [
    "toy = dataset[471]"
   ]
  },
  {
   "cell_type": "code",
   "execution_count": null,
   "metadata": {},
   "outputs": [
    {
     "data": {
      "text/plain": [
       "tensor([6, 6, 6, 6, 6, 8, 1, 1, 1, 1, 1, 1, 1, 1])"
      ]
     },
     "execution_count": 51,
     "metadata": {},
     "output_type": "execute_result"
    }
   ],
   "source": [
    "toy.z"
   ]
  },
  {
   "cell_type": "code",
   "execution_count": null,
   "metadata": {},
   "outputs": [
    {
     "data": {
      "text/plain": [
       "tensor([[ 0,  0,  0,  0,  1,  1,  1,  1,  2,  2,  2,  2,  3,  3,  3,  3,  4,  4,\n",
       "          4,  4,  5,  5,  6,  7,  8,  9, 10, 11, 12, 13],\n",
       "        [ 1,  6,  7,  8,  0,  2,  4,  5,  1,  3,  9, 10,  2,  4, 11, 12,  1,  3,\n",
       "          5, 13,  1,  4,  0,  0,  0,  2,  2,  3,  3,  4]])"
      ]
     },
     "execution_count": 65,
     "metadata": {},
     "output_type": "execute_result"
    }
   ],
   "source": [
    "toy.edge_index"
   ]
  },
  {
   "cell_type": "code",
   "execution_count": null,
   "metadata": {},
   "outputs": [
    {
     "data": {
      "text/plain": [
       "14"
      ]
     },
     "execution_count": 39,
     "metadata": {},
     "output_type": "execute_result"
    }
   ],
   "source": [
    "toy.num_nodes"
   ]
  },
  {
   "cell_type": "code",
   "execution_count": null,
   "metadata": {},
   "outputs": [
    {
     "data": {
      "text/plain": [
       "[(0, 1),\n",
       " (0, 6),\n",
       " (0, 7),\n",
       " (0, 8),\n",
       " (1, 4),\n",
       " (1, 5),\n",
       " (2, 9),\n",
       " (2, 10),\n",
       " (3, 11),\n",
       " (3, 12),\n",
       " (4, 5),\n",
       " (4, 13)]"
      ]
     },
     "execution_count": 74,
     "metadata": {},
     "output_type": "execute_result"
    }
   ],
   "source": [
    "find_close_atoms(toy)"
   ]
  },
  {
   "cell_type": "code",
   "execution_count": null,
   "metadata": {},
   "outputs": [
    {
     "data": {
      "text/plain": [
       "[[0, 1, 4, 5, 6, 7, 8, 13], [9, 2, 10], [11, 3, 12]]"
      ]
     },
     "execution_count": 77,
     "metadata": {},
     "output_type": "execute_result"
    }
   ],
   "source": [
    "find_close_atom_groups(toy)"
   ]
  },
  {
   "cell_type": "code",
   "execution_count": null,
   "metadata": {},
   "outputs": [
    {
     "data": {
      "text/plain": [
       "Data(x=[14, 11], edge_index=[2, 30], edge_attr=[30, 5], y=[1, 19], pos=[14, 3], z=[14], smiles='[H]C([H])([H])[C@@]12O[C@]1([H])C([H])([H])C2([H])[H]', name='gdb_481', idx=[1])"
      ]
     },
     "execution_count": 33,
     "metadata": {},
     "output_type": "execute_result"
    }
   ],
   "source": [
    "toy"
   ]
  },
  {
   "cell_type": "code",
   "execution_count": null,
   "metadata": {},
   "outputs": [],
   "source": [
    "smiles='[H]C1([H])[N@H+]2[C@@]3([H])[C@@]14O[C@@]1([H])[C@@]([H])([C@]24[H])[C@]13[H]'"
   ]
  },
  {
   "cell_type": "code",
   "execution_count": null,
   "metadata": {},
   "outputs": [],
   "source": [
    "from rdkit import Chem\n",
    "\n",
    "# remove hydrogens from the SMILES string\n",
    "mol = Chem.MolFromSmiles(smiles)\n",
    "# mol = Chem.RemoveHs(mol)"
   ]
  },
  {
   "cell_type": "code",
   "execution_count": null,
   "metadata": {},
   "outputs": [
    {
     "data": {
      "text/plain": [
       "'C1[N@@H+]2[C@H]3[C@@H]4[C@@H]5O[C@]13[C@H]2[C@@H]54'"
      ]
     },
     "execution_count": 22,
     "metadata": {},
     "output_type": "execute_result"
    }
   ],
   "source": [
    "# convert the molecule to a SMILES string\n",
    "smiles = Chem.MolToSmiles(mol)\n",
    "smiles"
   ]
  },
  {
   "cell_type": "code",
   "execution_count": null,
   "metadata": {},
   "outputs": [],
   "source": [
    "# create a function that computes the distance between all atoms inside a molecule\n",
    "from rdkit.Chem import AllChem\n",
    "from rdkit import RDLogger\n",
    "\n",
    "# Suppress RDKit warnings\n",
    "RDLogger.DisableLog('rdApp.*')\n",
    "\n",
    "def generateMolFromSmiles(smiles):\n",
    "    m = Chem.MolFromSmiles(smiles)\n",
    "    if m is None:\n",
    "        raise ValueError(\"Invalid SMILES string\")\n",
    "    m = Chem.AddHs(m)\n",
    "    result = AllChem.EmbedMolecule(m, randomSeed=27)\n",
    "    if result != 0:\n",
    "        raise ValueError(\"Embedding failed\")\n",
    "    result = AllChem.MMFFOptimizeMolecule(m)\n",
    "    if result != 0:\n",
    "        raise ValueError(\"Optimization failed\")\n",
    "    return m\n",
    "\n",
    "def getDistOfMol( smiles ):\n",
    "    m = generateMolFromSmiles( smiles )\n",
    "    distMat = Chem.Get3DDistanceMatrix(m)\n",
    "    return distMat\n",
    "\n",
    "def compute_distance_matrix(mol):\n",
    "    # Generate 3D coordinates if they don't exist\n",
    "    # if not mol.GetNumConformers():\n",
    "    #     AllChem.EmbedMolecule(mol, randomSeed=42)\n",
    "    #     AllChem.UFFOptimizeMolecule(mol)\n",
    "    \n",
    "    # Compute the distance matrix\n",
    "    dist_mat = AllChem.Get3DDistanceMatrix(mol)\n",
    "    return dist_mat\n",
    "\n",
    "def get_atoms_within_threshold(dist_mat, threshold):\n",
    "    # Get the number of atoms in the molecule\n",
    "    num_atoms = dist_mat.shape[0]\n",
    "    \n",
    "    # Find pairs of atoms closer than the threshold\n",
    "    close_atoms = []\n",
    "    for i in range(num_atoms):\n",
    "        for j in range(i + 1, num_atoms):\n",
    "            if dist_mat[i, j] < threshold:\n",
    "                close_atoms.append((i, j))\n",
    "    \n",
    "    return close_atoms\n",
    "    "
   ]
  },
  {
   "cell_type": "code",
   "execution_count": null,
   "metadata": {},
   "outputs": [
    {
     "name": "stdout",
     "output_type": "stream",
     "text": [
      "Error: Embedding failed\n"
     ]
    }
   ],
   "source": [
    "try:\n",
    "    distMat = getDistOfMol(smiles)\n",
    "    print(\"Distance matrix:\")\n",
    "    print(distMat)  # full matrix of numOfAtoms x numOfAtoms\n",
    "    print(f\"Distance between atom 0 and atom 2: {distMat[0, 2]} Å\")  # distance between atom 0 and atom 2\n",
    "except ValueError as e:\n",
    "    print(f\"Error: {e}\")"
   ]
  },
  {
   "cell_type": "code",
   "execution_count": null,
   "metadata": {},
   "outputs": [
    {
     "ename": "ValueError",
     "evalue": "Bad Conformer Id",
     "output_type": "error",
     "traceback": [
      "\u001b[0;31m---------------------------------------------------------------------------\u001b[0m",
      "\u001b[0;31mValueError\u001b[0m                                Traceback (most recent call last)",
      "Cell \u001b[0;32mIn[30], line 1\u001b[0m\n\u001b[0;32m----> 1\u001b[0m distMat  \u001b[38;5;241m=\u001b[39m \u001b[43mgetDistOfMol\u001b[49m\u001b[43m(\u001b[49m\u001b[43m \u001b[49m\u001b[43msmiles\u001b[49m\u001b[43m \u001b[49m\u001b[43m)\u001b[49m\n\u001b[1;32m      2\u001b[0m \u001b[38;5;28mprint\u001b[39m( distMat ) \u001b[38;5;66;03m# full matrix of numOfAtoms x numOfAtoms\u001b[39;00m\n\u001b[1;32m      3\u001b[0m \u001b[38;5;28mprint\u001b[39m( distMat[\u001b[38;5;241m0\u001b[39m,\u001b[38;5;241m2\u001b[39m] ) \u001b[38;5;66;03m# distance between atom 0 and atom 2\u001b[39;00m\n",
      "Cell \u001b[0;32mIn[29], line 16\u001b[0m, in \u001b[0;36mgetDistOfMol\u001b[0;34m(smiles)\u001b[0m\n\u001b[1;32m     15\u001b[0m \u001b[38;5;28;01mdef\u001b[39;00m \u001b[38;5;21mgetDistOfMol\u001b[39m( smiles ):\n\u001b[0;32m---> 16\u001b[0m     m \u001b[38;5;241m=\u001b[39m \u001b[43mgenerateMolFromSmiles\u001b[49m\u001b[43m(\u001b[49m\u001b[43m \u001b[49m\u001b[43msmiles\u001b[49m\u001b[43m \u001b[49m\u001b[43m)\u001b[49m\n\u001b[1;32m     17\u001b[0m     distMat \u001b[38;5;241m=\u001b[39m Chem\u001b[38;5;241m.\u001b[39mGet3DDistanceMatrix(m)\n\u001b[1;32m     18\u001b[0m     \u001b[38;5;28;01mreturn\u001b[39;00m distMat\n",
      "Cell \u001b[0;32mIn[29], line 12\u001b[0m, in \u001b[0;36mgenerateMolFromSmiles\u001b[0;34m(smiles)\u001b[0m\n\u001b[1;32m     10\u001b[0m m \u001b[38;5;241m=\u001b[39m Chem\u001b[38;5;241m.\u001b[39mAddHs( m )\n\u001b[1;32m     11\u001b[0m AllChem\u001b[38;5;241m.\u001b[39mEmbedMolecule( m, randomSeed\u001b[38;5;241m=\u001b[39m\u001b[38;5;241m27\u001b[39m)\n\u001b[0;32m---> 12\u001b[0m \u001b[43mAllChem\u001b[49m\u001b[38;5;241;43m.\u001b[39;49m\u001b[43mMMFFOptimizeMolecule\u001b[49m\u001b[43m(\u001b[49m\u001b[43m \u001b[49m\u001b[43mm\u001b[49m\u001b[43m \u001b[49m\u001b[43m)\u001b[49m\n\u001b[1;32m     13\u001b[0m \u001b[38;5;28;01mreturn\u001b[39;00m m\n",
      "\u001b[0;31mValueError\u001b[0m: Bad Conformer Id"
     ]
    }
   ],
   "source": [
    "distMat  = getDistOfMol( smiles )\n",
    "print( distMat ) # full matrix of numOfAtoms x numOfAtoms\n",
    "print( distMat[0,2] ) # distance between atom 0 and atom 2"
   ]
  },
  {
   "cell_type": "code",
   "execution_count": null,
   "metadata": {},
   "outputs": [
    {
     "ename": "ValueError",
     "evalue": "Bad Conformer Id",
     "output_type": "error",
     "traceback": [
      "\u001b[0;31m---------------------------------------------------------------------------\u001b[0m",
      "\u001b[0;31mValueError\u001b[0m                                Traceback (most recent call last)",
      "Cell \u001b[0;32mIn[25], line 2\u001b[0m\n\u001b[1;32m      1\u001b[0m AllChem\u001b[38;5;241m.\u001b[39mEmbedMolecule(mol, randomSeed\u001b[38;5;241m=\u001b[39m\u001b[38;5;241m42\u001b[39m)  \u001b[38;5;66;03m# Ensure the molecule has 3D coordinates\u001b[39;00m\n\u001b[0;32m----> 2\u001b[0m dist_mat \u001b[38;5;241m=\u001b[39m \u001b[43mcompute_distance_matrix\u001b[49m\u001b[43m(\u001b[49m\u001b[43mmol\u001b[49m\u001b[43m)\u001b[49m\n\u001b[1;32m      4\u001b[0m threshold \u001b[38;5;241m=\u001b[39m \u001b[38;5;241m12\u001b[39m  \u001b[38;5;66;03m# Example threshold distance\u001b[39;00m\n\u001b[1;32m      5\u001b[0m close_atoms \u001b[38;5;241m=\u001b[39m get_atoms_within_threshold(dist_mat, threshold)\n",
      "Cell \u001b[0;32mIn[24], line 15\u001b[0m, in \u001b[0;36mcompute_distance_matrix\u001b[0;34m(mol)\u001b[0m\n\u001b[1;32m      8\u001b[0m \u001b[38;5;28;01mdef\u001b[39;00m \u001b[38;5;21mcompute_distance_matrix\u001b[39m(mol):\n\u001b[1;32m      9\u001b[0m     \u001b[38;5;66;03m# Generate 3D coordinates if they don't exist\u001b[39;00m\n\u001b[1;32m     10\u001b[0m     \u001b[38;5;66;03m# if not mol.GetNumConformers():\u001b[39;00m\n\u001b[0;32m   (...)\u001b[0m\n\u001b[1;32m     13\u001b[0m     \n\u001b[1;32m     14\u001b[0m     \u001b[38;5;66;03m# Compute the distance matrix\u001b[39;00m\n\u001b[0;32m---> 15\u001b[0m     dist_mat \u001b[38;5;241m=\u001b[39m \u001b[43mAllChem\u001b[49m\u001b[38;5;241;43m.\u001b[39;49m\u001b[43mGet3DDistanceMatrix\u001b[49m\u001b[43m(\u001b[49m\u001b[43mmol\u001b[49m\u001b[43m)\u001b[49m\n\u001b[1;32m     16\u001b[0m     \u001b[38;5;28;01mreturn\u001b[39;00m dist_mat\n",
      "\u001b[0;31mValueError\u001b[0m: Bad Conformer Id"
     ]
    }
   ],
   "source": [
    "AllChem.EmbedMolecule(mol, randomSeed=42)  # Ensure the molecule has 3D coordinates\n",
    "dist_mat = compute_distance_matrix(mol)\n",
    "\n",
    "threshold = 12  # Example threshold distance\n",
    "close_atoms = get_atoms_within_threshold(dist_mat, threshold)\n",
    "\n",
    "print(\"Atom pairs closer than the threshold distance:\")\n",
    "for pair in close_atoms:\n",
    "    print(f\"Atom {pair[0]} and Atom {pair[1]} are {dist_mat[pair[0], pair[1]]:.2f} Å apart.\")\n"
   ]
  },
  {
   "cell_type": "markdown",
   "metadata": {},
   "source": [
    "# Load protein dataset"
   ]
  }
 ],
 "metadata": {
  "kernelspec": {
   "display_name": "topox",
   "language": "python",
   "name": "python3"
  },
  "language_info": {
   "codemirror_mode": {
    "name": "ipython",
    "version": 3
   },
   "file_extension": ".py",
   "mimetype": "text/x-python",
   "name": "python",
   "nbconvert_exporter": "python",
   "pygments_lexer": "ipython3",
   "version": "3.11.3"
  }
 },
 "nbformat": 4,
 "nbformat_minor": 2
}
